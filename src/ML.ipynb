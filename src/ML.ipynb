{
 "cells": [
  {
   "cell_type": "code",
   "execution_count": 1,
   "metadata": {},
   "outputs": [
    {
     "name": "stderr",
     "output_type": "stream",
     "text": [
      "C:\\Users\\kjjs1\\Anaconda3\\lib\\site-packages\\sklearn\\externals\\six.py:31: FutureWarning: The module is deprecated in version 0.21 and will be removed in version 0.23 since we've dropped support for Python 2.7. Please rely on the official version of six (https://pypi.org/project/six/).\n",
      "  \"(https://pypi.org/project/six/).\", FutureWarning)\n",
      "C:\\Users\\kjjs1\\Anaconda3\\lib\\site-packages\\sklearn\\externals\\joblib\\__init__.py:15: FutureWarning: sklearn.externals.joblib is deprecated in 0.21 and will be removed in 0.23. Please import this functionality directly from joblib, which can be installed with: pip install joblib. If this warning is raised when loading pickled models, you may need to re-serialize those models with scikit-learn 0.21+.\n",
      "  warnings.warn(msg, category=FutureWarning)\n"
     ]
    }
   ],
   "source": [
    "import pandas as pd\n",
    "import matplotlib as plt\n",
    "import matplotlib as npl\n",
    "import matplotlib.pyplot as plt\n",
    "import matplotlib.font_manager as fn\n",
    "from sklearn.preprocessing import StandardScaler\n",
    "import seaborn as sns\n",
    "import numpy as np\n",
    "import mglearn\n",
    "font_name=fn.FontProperties(fname=\"C:/WIndows/Fonts/malgun.ttf\").get_name()  #한글 꺠짐 패치\n",
    "plt.rc(\"font\",family=font_name)\n",
    "npl.rcParams[\"axes.unicode_minus\"]=False\n",
    "from sklearn.model_selection import train_test_split\n",
    "from sklearn.tree import DecisionTreeClassifier"
   ]
  },
  {
   "cell_type": "code",
   "execution_count": 30,
   "metadata": {},
   "outputs": [
    {
     "data": {
      "text/plain": [
       "movieCd        0\n",
       "애니메이션          0\n",
       "hCnt           0\n",
       "tot            0\n",
       "w4             0\n",
       "w3             0\n",
       "w2             0\n",
       "w1             0\n",
       "companys       0\n",
       "actors         0\n",
       "directors      0\n",
       "nations        0\n",
       "openDt         0\n",
       "movieNm        0\n",
       "audits         0\n",
       "공연             1\n",
       "서부극(웨스턴)       2\n",
       "전쟁             8\n",
       "사극            11\n",
       "뮤지컬           11\n",
       "공포(호러)        15\n",
       "미스터리          23\n",
       "다큐멘터리         23\n",
       "가족            32\n",
       "범죄            43\n",
       "SF            44\n",
       "멜로/로맨스        47\n",
       "판타지           51\n",
       "스릴러           69\n",
       "코미디           72\n",
       "어드벤처          90\n",
       "액션           113\n",
       "드라마          211\n",
       "dtype: int64"
      ]
     },
     "execution_count": 30,
     "metadata": {},
     "output_type": "execute_result"
    }
   ],
   "source": [
    "temp=pd.read_csv(\"E:\\OneDrive\\Documents\\Programming_Files\\Gitwork\\FinalProject\\Data\\movie_total.csv\")\n",
    "temp.head(10)\n",
    "temp[temp[['멜로/로맨스', '액션', '가족', '뮤지컬', '범죄', '미스터리', '전쟁', '다큐멘터리', '어드벤처', '공연',\n",
    "       '코미디', '드라마', '서부극(웨스턴)', '스릴러', '판타지', 'SF', '공포(호러)', '사극']]==1].count().sort_values()"
   ]
  },
  {
   "cell_type": "code",
   "execution_count": 414,
   "metadata": {},
   "outputs": [
    {
     "data": {
      "text/plain": [
       "Index(['movieCd', 'movieNm', 'openDt', 'nations', 'directors', 'actors',\n",
       "       'companys', 'audits', 'w1', 'w2', 'w3', 'w4', 'tot', 'hCnt', '애니메이션',\n",
       "       '멜로/로맨스', '액션', '가족', '뮤지컬', '범죄', '미스터리', '전쟁', '다큐멘터리', '어드벤처', '공연',\n",
       "       '코미디', '드라마', '서부극(웨스턴)', '스릴러', '판타지', 'SF', '공포(호러)', '사극'],\n",
       "      dtype='object')"
      ]
     },
     "execution_count": 414,
     "metadata": {},
     "output_type": "execute_result"
    }
   ],
   "source": [
    "temp.columns"
   ]
  },
  {
   "cell_type": "code",
   "execution_count": 415,
   "metadata": {},
   "outputs": [
    {
     "data": {
      "text/html": [
       "<div>\n",
       "<style scoped>\n",
       "    .dataframe tbody tr th:only-of-type {\n",
       "        vertical-align: middle;\n",
       "    }\n",
       "\n",
       "    .dataframe tbody tr th {\n",
       "        vertical-align: top;\n",
       "    }\n",
       "\n",
       "    .dataframe thead th {\n",
       "        text-align: right;\n",
       "    }\n",
       "</style>\n",
       "<table border=\"1\" class=\"dataframe\">\n",
       "  <thead>\n",
       "    <tr style=\"text-align: right;\">\n",
       "      <th></th>\n",
       "      <th>movieCd</th>\n",
       "      <th>movieNm</th>\n",
       "      <th>openDt</th>\n",
       "      <th>nations</th>\n",
       "      <th>directors</th>\n",
       "      <th>actors</th>\n",
       "      <th>companys</th>\n",
       "      <th>audits</th>\n",
       "      <th>w1</th>\n",
       "      <th>w2</th>\n",
       "      <th>...</th>\n",
       "      <th>스릴러</th>\n",
       "      <th>판타지</th>\n",
       "      <th>SF</th>\n",
       "      <th>공포(호러)</th>\n",
       "      <th>사극</th>\n",
       "      <th>totClass</th>\n",
       "      <th>w1Class</th>\n",
       "      <th>w2Class</th>\n",
       "      <th>w3Class</th>\n",
       "      <th>w4Class</th>\n",
       "    </tr>\n",
       "  </thead>\n",
       "  <tbody>\n",
       "    <tr>\n",
       "      <th>0</th>\n",
       "      <td>20157042</td>\n",
       "      <td>셜록: 유령신부</td>\n",
       "      <td>20160102</td>\n",
       "      <td>1</td>\n",
       "      <td>1278885</td>\n",
       "      <td>592948</td>\n",
       "      <td>3</td>\n",
       "      <td>2</td>\n",
       "      <td>1086912</td>\n",
       "      <td>1251033</td>\n",
       "      <td>...</td>\n",
       "      <td>0</td>\n",
       "      <td>0</td>\n",
       "      <td>0</td>\n",
       "      <td>0</td>\n",
       "      <td>0</td>\n",
       "      <td>B</td>\n",
       "      <td>A</td>\n",
       "      <td>A</td>\n",
       "      <td>A</td>\n",
       "      <td>A</td>\n",
       "    </tr>\n",
       "    <tr>\n",
       "      <th>1</th>\n",
       "      <td>20155422</td>\n",
       "      <td>굿 다이노</td>\n",
       "      <td>20160107</td>\n",
       "      <td>2</td>\n",
       "      <td>1330181</td>\n",
       "      <td>997635</td>\n",
       "      <td>1</td>\n",
       "      <td>1</td>\n",
       "      <td>736477</td>\n",
       "      <td>1103163</td>\n",
       "      <td>...</td>\n",
       "      <td>0</td>\n",
       "      <td>0</td>\n",
       "      <td>0</td>\n",
       "      <td>0</td>\n",
       "      <td>0</td>\n",
       "      <td>A</td>\n",
       "      <td>B</td>\n",
       "      <td>B</td>\n",
       "      <td>A</td>\n",
       "      <td>A</td>\n",
       "    </tr>\n",
       "    <tr>\n",
       "      <th>2</th>\n",
       "      <td>20142641</td>\n",
       "      <td>나를 잊지 말아요</td>\n",
       "      <td>20160107</td>\n",
       "      <td>3</td>\n",
       "      <td>427107</td>\n",
       "      <td>1181598</td>\n",
       "      <td>3</td>\n",
       "      <td>3</td>\n",
       "      <td>391766</td>\n",
       "      <td>423624</td>\n",
       "      <td>...</td>\n",
       "      <td>0</td>\n",
       "      <td>0</td>\n",
       "      <td>0</td>\n",
       "      <td>0</td>\n",
       "      <td>0</td>\n",
       "      <td>B</td>\n",
       "      <td>B</td>\n",
       "      <td>B</td>\n",
       "      <td>B</td>\n",
       "      <td>B</td>\n",
       "    </tr>\n",
       "    <tr>\n",
       "      <th>3</th>\n",
       "      <td>20158882</td>\n",
       "      <td>유스</td>\n",
       "      <td>20160107</td>\n",
       "      <td>1</td>\n",
       "      <td>35836</td>\n",
       "      <td>17616</td>\n",
       "      <td>1</td>\n",
       "      <td>3</td>\n",
       "      <td>32158</td>\n",
       "      <td>52365</td>\n",
       "      <td>...</td>\n",
       "      <td>0</td>\n",
       "      <td>0</td>\n",
       "      <td>0</td>\n",
       "      <td>0</td>\n",
       "      <td>0</td>\n",
       "      <td>C</td>\n",
       "      <td>D</td>\n",
       "      <td>C</td>\n",
       "      <td>C</td>\n",
       "      <td>C</td>\n",
       "    </tr>\n",
       "    <tr>\n",
       "      <th>4</th>\n",
       "      <td>20159510</td>\n",
       "      <td>헤이트풀8</td>\n",
       "      <td>20160107</td>\n",
       "      <td>2</td>\n",
       "      <td>137580</td>\n",
       "      <td>48565</td>\n",
       "      <td>1</td>\n",
       "      <td>4</td>\n",
       "      <td>92834</td>\n",
       "      <td>111986</td>\n",
       "      <td>...</td>\n",
       "      <td>1</td>\n",
       "      <td>0</td>\n",
       "      <td>0</td>\n",
       "      <td>0</td>\n",
       "      <td>0</td>\n",
       "      <td>C</td>\n",
       "      <td>C</td>\n",
       "      <td>C</td>\n",
       "      <td>C</td>\n",
       "      <td>C</td>\n",
       "    </tr>\n",
       "  </tbody>\n",
       "</table>\n",
       "<p>5 rows × 38 columns</p>\n",
       "</div>"
      ],
      "text/plain": [
       "    movieCd    movieNm    openDt  nations  directors   actors  companys  \\\n",
       "0  20157042   셜록: 유령신부  20160102        1    1278885   592948         3   \n",
       "1  20155422      굿 다이노  20160107        2    1330181   997635         1   \n",
       "2  20142641  나를 잊지 말아요  20160107        3     427107  1181598         3   \n",
       "3  20158882         유스  20160107        1      35836    17616         1   \n",
       "4  20159510      헤이트풀8  20160107        2     137580    48565         1   \n",
       "\n",
       "   audits       w1       w2  ...  스릴러  판타지  SF  공포(호러)  사극  totClass  w1Class  \\\n",
       "0       2  1086912  1251033  ...    0    0   0       0   0         B        A   \n",
       "1       1   736477  1103163  ...    0    0   0       0   0         A        B   \n",
       "2       3   391766   423624  ...    0    0   0       0   0         B        B   \n",
       "3       3    32158    52365  ...    0    0   0       0   0         C        D   \n",
       "4       4    92834   111986  ...    1    0   0       0   0         C        C   \n",
       "\n",
       "   w2Class  w3Class  w4Class  \n",
       "0        A        A        A  \n",
       "1        B        A        A  \n",
       "2        B        B        B  \n",
       "3        C        C        C  \n",
       "4        C        C        C  \n",
       "\n",
       "[5 rows x 38 columns]"
      ]
     },
     "execution_count": 415,
     "metadata": {},
     "output_type": "execute_result"
    }
   ],
   "source": [
    "def make_class(temp,col):\n",
    "    Q1=temp[f'{col}'].quantile(.25)\n",
    "    Q2=temp[f'{col}'].quantile(.50)\n",
    "    Q3=temp[f'{col}'].quantile(.75)\n",
    "    Q4=temp[f'{col}'].quantile(1)\n",
    "    \n",
    "    for index in range(len(temp[f'{col}'])):\n",
    "        if Q3 <= temp.loc[index,f'{col}'] <=Q4:\n",
    "            temp.loc[index,f'{col}Class']=\"A\"\n",
    "\n",
    "\n",
    "        elif Q2 <= temp.loc[index,f'{col}'] <Q3:\n",
    "            temp.loc[index,f'{col}Class']=\"B\"\n",
    "            continue\n",
    "\n",
    "        elif Q1 <=temp.loc[index,f'{col}'] < Q2:\n",
    "            temp.loc[index,f'{col}Class']=\"C\"\n",
    "            continue\n",
    "\n",
    "        else :\n",
    "            temp.loc[index,f'{col}Class']=\"D\"\n",
    "            continue\n",
    "    \n",
    "    return temp\n",
    "\n",
    "#--------------------------------------------------------------------------------------#\n",
    "temp=make_class(temp,'tot')\n",
    "temp=make_class(temp,'w1')\n",
    "temp=make_class(temp,'w2')\n",
    "temp=make_class(temp,'w3')\n",
    "temp=make_class(temp,'w4')\n",
    "temp.head(5)"
   ]
  },
  {
   "cell_type": "code",
   "execution_count": 448,
   "metadata": {},
   "outputs": [],
   "source": [
    "data_colums_list=['audits','directors', 'actors', 'companys','nations','액션', '가족', '뮤지컬', '범죄', '미스터리', '전쟁', '다큐멘터리', '어드벤처', '공연', '코미디',\n",
    "       '드라마', '서부극(웨스턴)', '스릴러', '판타지', 'SF', '공포(호러)', '사극','hCnt']\n",
    "data_g_list=['액션', '가족', '뮤지컬', '범죄', '미스터리', '전쟁', '다큐멘터리', '어드벤처', '공연', '코미디',\n",
    "             '드라마', '서부극(웨스턴)', '스릴러', '판타지', 'SF', '공포(호러)', '사극']\n",
    "week_list=[\"w1\",\"w2\",\"w3\"]\n",
    "\n",
    "data_colums_list.extend(week_list)\n",
    "target_class=\"w4Class\"\n",
    "\n",
    "data=temp[data_g_list]\n",
    "target=temp[target_class]"
   ]
  },
  {
   "cell_type": "code",
   "execution_count": 449,
   "metadata": {},
   "outputs": [
    {
     "data": {
      "text/plain": [
       "26"
      ]
     },
     "execution_count": 449,
     "metadata": {},
     "output_type": "execute_result"
    }
   ],
   "source": [
    "len(data_colums_list)"
   ]
  },
  {
   "cell_type": "markdown",
   "metadata": {},
   "source": [
    "# Decision Tree"
   ]
  },
  {
   "cell_type": "code",
   "execution_count": 450,
   "metadata": {},
   "outputs": [],
   "source": [
    "X_train, X_test, y_train, y_test = train_test_split(data, target,stratify=target,random_state=0,train_size=0.80)"
   ]
  },
  {
   "cell_type": "code",
   "execution_count": 451,
   "metadata": {},
   "outputs": [
    {
     "data": {
      "text/plain": [
       "DecisionTreeClassifier(ccp_alpha=0.0, class_weight=None, criterion='entropy',\n",
       "                       max_depth=5, max_features=None, max_leaf_nodes=None,\n",
       "                       min_impurity_decrease=0.0, min_impurity_split=None,\n",
       "                       min_samples_leaf=1, min_samples_split=2,\n",
       "                       min_weight_fraction_leaf=0.0, presort='deprecated',\n",
       "                       random_state=0, splitter='best')"
      ]
     },
     "execution_count": 451,
     "metadata": {},
     "output_type": "execute_result"
    }
   ],
   "source": [
    "tree = DecisionTreeClassifier(random_state=0, max_depth=5,criterion='entropy')\n",
    "tree.fit(X_train,y_train)"
   ]
  },
  {
   "cell_type": "code",
   "execution_count": 452,
   "metadata": {},
   "outputs": [
    {
     "name": "stdout",
     "output_type": "stream",
     "text": [
      "Train acc 0.42660550458715596\n",
      "Test acc 0.34545454545454546\n"
     ]
    }
   ],
   "source": [
    "print(\"Train acc\",tree.score(X_train,y_train))\n",
    "print(\"Test acc\",tree.score(X_test,y_test))"
   ]
  },
  {
   "cell_type": "code",
   "execution_count": 453,
   "metadata": {},
   "outputs": [
    {
     "name": "stdout",
     "output_type": "stream",
     "text": [
      "Index(['액션', '가족', '뮤지컬', '범죄', '미스터리', '전쟁', '다큐멘터리', '어드벤처', '공연', '코미디',\n",
      "       '드라마', '서부극(웨스턴)', '스릴러', '판타지', 'SF', '공포(호러)', '사극'],\n",
      "      dtype='object') [ 0  1  2  3  4  5  6  7  8  9 10 11 12 13 14 15 16] [0.30614665 0.         0.         0.16713629 0.03270592 0.\n",
      " 0.05212656 0.07625859 0.         0.0097107  0.10887085 0.\n",
      " 0.08340198 0.0478362  0.03847997 0.         0.0773263 ]\n"
     ]
    },
    {
     "data": {
      "image/png": "[encoded data removed]",
      "text/plain": [
       "<Figure size 1008x1080 with 1 Axes>"
      ]
     },
     "metadata": {
      "needs_background": "light"
     },
     "output_type": "display_data"
    }
   ],
   "source": [
    "def plot_feature_importances_cancer(model,score,x_text,X):\n",
    "    name=type(model).__name__\n",
    "    txt=score.round(2).astype('str')\n",
    "    num=4\n",
    "    n_features = data.shape[1]\n",
    "    print(data.columns,np.arange(n_features), model.feature_importances_)\n",
    "    plt.rcParams[\"figure.figsize\"] = (14,15)\n",
    "    #plt.barh(range(n_features), model.feature_importances_, align=\"center\")\n",
    "    #plt.yticks(np.arange(n_features), data.columns,fontsize=12)\n",
    "    \n",
    "    #plt.text(x_text, 0.9,\"acc : \"+txt,fontsize=20);\n",
    "    plt.text(x_text, 0.9,\"acc : \"+txt,fontsize=20,clip_on=True);\n",
    "    \n",
    "    plt.title(f\"<{name} : {num}주차 기준-장르별>\",fontsize=20)\n",
    "    \n",
    "    feat_importances = pd.Series(model.feature_importances_, index=X.columns)\n",
    "    #feat_importances.nsmallest(19).plot(kind='barh')\n",
    "    feat_importances.nlargest(19).plot(kind='barh')\n",
    "    \n",
    "    plt.savefig(f'img/{name}_image_{num}주_장르.png',dpi=300)\n",
    "plot_feature_importances_cancer(tree,tree.score(X_test,y_test),0.9,X_train)"
   ]
  },
  {
   "cell_type": "markdown",
   "metadata": {},
   "source": [
    "# Random Forset"
   ]
  },
  {
   "cell_type": "code",
   "execution_count": 454,
   "metadata": {},
   "outputs": [],
   "source": [
    "from sklearn.ensemble import RandomForestClassifier"
   ]
  },
  {
   "cell_type": "code",
   "execution_count": 455,
   "metadata": {},
   "outputs": [
    {
     "data": {
      "text/plain": [
       "RandomForestClassifier(bootstrap=True, ccp_alpha=0.0, class_weight=None,\n",
       "                       criterion='entropy', max_depth=None, max_features='auto',\n",
       "                       max_leaf_nodes=None, max_samples=None,\n",
       "                       min_impurity_decrease=0.0, min_impurity_split=None,\n",
       "                       min_samples_leaf=1, min_samples_split=2,\n",
       "                       min_weight_fraction_leaf=0.0, n_estimators=144,\n",
       "                       n_jobs=None, oob_score=False, random_state=0, verbose=0,\n",
       "                       warm_start=False)"
      ]
     },
     "execution_count": 455,
     "metadata": {},
     "output_type": "execute_result"
    }
   ],
   "source": [
    "forest = RandomForestClassifier(random_state=0, n_estimators=144,criterion='entropy').fit(X_train,y_train)\n",
    "forest"
   ]
  },
  {
   "cell_type": "code",
   "execution_count": 456,
   "metadata": {},
   "outputs": [
    {
     "name": "stdout",
     "output_type": "stream",
     "text": [
      "RTrain acc 0.5275229357798165\n",
      "RTest acc 0.39090909090909093\n"
     ]
    }
   ],
   "source": [
    "print(\"RTrain acc\",forest.score(X_train,y_train))\n",
    "print(\"RTest acc\",forest.score(X_test,y_test))"
   ]
  },
  {
   "cell_type": "code",
   "execution_count": 457,
   "metadata": {},
   "outputs": [
    {
     "name": "stdout",
     "output_type": "stream",
     "text": [
      "Index(['액션', '가족', '뮤지컬', '범죄', '미스터리', '전쟁', '다큐멘터리', '어드벤처', '공연', '코미디',\n",
      "       '드라마', '서부극(웨스턴)', '스릴러', '판타지', 'SF', '공포(호러)', '사극'],\n",
      "      dtype='object') [ 0  1  2  3  4  5  6  7  8  9 10 11 12 13 14 15 16] [0.14320169 0.05897227 0.03874063 0.08746346 0.04715346 0.02086801\n",
      " 0.03571157 0.09413475 0.00468346 0.07113885 0.10316034 0.00938814\n",
      " 0.07865178 0.06982206 0.0663305  0.02674528 0.04383375]\n"
     ]
    },
    {
     "data": {
      "image/png": "[encoded data removed]",
      "text/plain": [
       "<Figure size 1008x1080 with 1 Axes>"
      ]
     },
     "metadata": {
      "needs_background": "light"
     },
     "output_type": "display_data"
    }
   ],
   "source": [
    "plot_feature_importances_cancer(forest,forest.score(X_test,y_test),0.4,X_test)"
   ]
  },
  {
   "cell_type": "markdown",
   "metadata": {},
   "source": [
    "# SVM"
   ]
  },
  {
   "cell_type": "code",
   "execution_count": 437,
   "metadata": {},
   "outputs": [],
   "source": [
    "from sklearn.svm import SVC"
   ]
  },
  {
   "cell_type": "code",
   "execution_count": 294,
   "metadata": {},
   "outputs": [
    {
     "data": {
      "text/plain": [
       "SVC(C=10, break_ties=False, cache_size=200, class_weight=None, coef0=0.0,\n",
       "    decision_function_shape='ovr', degree=3, gamma='scale', kernel='rbf',\n",
       "    max_iter=-1, probability=False, random_state=None, shrinking=True,\n",
       "    tol=0.001, verbose=False)"
      ]
     },
     "execution_count": 294,
     "metadata": {},
     "output_type": "execute_result"
    }
   ],
   "source": [
    "svm = SVC(C=10) #defult C=1, gamma = 1/특성의 갯수(X_train,shape[1])\n",
    "svm.fit(X_train,y_train)"
   ]
  },
  {
   "cell_type": "code",
   "execution_count": 295,
   "metadata": {
    "scrolled": true
   },
   "outputs": [
    {
     "name": "stdout",
     "output_type": "stream",
     "text": [
      "훈련 결과 : 0.8692660550458715\n",
      "테스트 결과 : 0.8363636363636363\n"
     ]
    }
   ],
   "source": [
    "print(\"훈련 결과 :\",svm.score(X_train,y_train))\n",
    "print(\"테스트 결과 :\",svm.score(X_test,y_test))"
   ]
  },
  {
   "cell_type": "code",
   "execution_count": null,
   "metadata": {},
   "outputs": [],
   "source": []
  },
  {
   "cell_type": "code",
   "execution_count": null,
   "metadata": {},
   "outputs": [],
   "source": []
  }
 ],
 "metadata": {
  "kernelspec": {
   "display_name": "Python 3",
   "language": "python",
   "name": "python3"
  },
  "language_info": {
   "codemirror_mode": {
    "name": "ipython",
    "version": 3
   },
   "file_extension": ".py",
   "mimetype": "text/x-python",
   "name": "python",
   "nbconvert_exporter": "python",
   "pygments_lexer": "ipython3",
   "version": "3.7.6"
  }
 },
 "nbformat": 4,
 "nbformat_minor": 4
}
