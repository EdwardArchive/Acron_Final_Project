{
 "cells": [
  {
   "cell_type": "code",
   "execution_count": 1,
   "metadata": {},
   "outputs": [],
   "source": [
    "import os\n",
    "import pandas as pd"
   ]
  },
  {
   "cell_type": "code",
   "execution_count": 39,
   "metadata": {},
   "outputs": [
    {
     "name": "stdout",
     "output_type": "stream",
     "text": [
      "E:\\OneDrive\\Documents\\Programming_Files\\Gitwork\\FinalProject\\Data\\replace_xls\\47 미터.xls\n",
      "E:\\OneDrive\\Documents\\Programming_Files\\Gitwork\\FinalProject\\Data\\replace_xls\\구스범스.xls\n",
      "E:\\OneDrive\\Documents\\Programming_Files\\Gitwork\\FinalProject\\Data\\replace_xls\\군함도.xls\n",
      "E:\\OneDrive\\Documents\\Programming_Files\\Gitwork\\FinalProject\\Data\\replace_xls\\귀향.xls\n",
      "E:\\OneDrive\\Documents\\Programming_Files\\Gitwork\\FinalProject\\Data\\replace_xls\\그것.xls\n",
      "E:\\OneDrive\\Documents\\Programming_Files\\Gitwork\\FinalProject\\Data\\replace_xls\\나쁜놈은 죽는다.xls\n",
      "E:\\OneDrive\\Documents\\Programming_Files\\Gitwork\\FinalProject\\Data\\replace_xls\\더 킹.xls\n",
      "E:\\OneDrive\\Documents\\Programming_Files\\Gitwork\\FinalProject\\Data\\replace_xls\\돈맛.xls\n",
      "E:\\OneDrive\\Documents\\Programming_Files\\Gitwork\\FinalProject\\Data\\replace_xls\\딥.xls\n",
      "E:\\OneDrive\\Documents\\Programming_Files\\Gitwork\\FinalProject\\Data\\replace_xls\\러빙 빈센트.xls\n",
      "E:\\OneDrive\\Documents\\Programming_Files\\Gitwork\\FinalProject\\Data\\replace_xls\\로마의 휴일.xls\n",
      "E:\\OneDrive\\Documents\\Programming_Files\\Gitwork\\FinalProject\\Data\\replace_xls\\마음이 외치고 싶어해.xls\n",
      "E:\\OneDrive\\Documents\\Programming_Files\\Gitwork\\FinalProject\\Data\\replace_xls\\마이펫의 이중생활.xls\n",
      "E:\\OneDrive\\Documents\\Programming_Files\\Gitwork\\FinalProject\\Data\\replace_xls\\몬스터 섬의 비밀.xls\n",
      "E:\\OneDrive\\Documents\\Programming_Files\\Gitwork\\FinalProject\\Data\\replace_xls\\무현, 두 도시 이야기.xls\n",
      "E:\\OneDrive\\Documents\\Programming_Files\\Gitwork\\FinalProject\\Data\\replace_xls\\번개맨.xls\n",
      "E:\\OneDrive\\Documents\\Programming_Files\\Gitwork\\FinalProject\\Data\\replace_xls\\벤허.xls\n",
      "E:\\OneDrive\\Documents\\Programming_Files\\Gitwork\\FinalProject\\Data\\replace_xls\\사냥.xls\n",
      "E:\\OneDrive\\Documents\\Programming_Files\\Gitwork\\FinalProject\\Data\\replace_xls\\사일런스.xls\n",
      "E:\\OneDrive\\Documents\\Programming_Files\\Gitwork\\FinalProject\\Data\\replace_xls\\신비한 동물사전.xls\n",
      "E:\\OneDrive\\Documents\\Programming_Files\\Gitwork\\FinalProject\\Data\\replace_xls\\아가씨.xls\n",
      "E:\\OneDrive\\Documents\\Programming_Files\\Gitwork\\FinalProject\\Data\\replace_xls\\아빠는 딸.xls\n",
      "E:\\OneDrive\\Documents\\Programming_Files\\Gitwork\\FinalProject\\Data\\replace_xls\\암살교실_ 졸업편.xls\n",
      "E:\\OneDrive\\Documents\\Programming_Files\\Gitwork\\FinalProject\\Data\\replace_xls\\언더더씨.xls\n",
      "E:\\OneDrive\\Documents\\Programming_Files\\Gitwork\\FinalProject\\Data\\replace_xls\\월요일이 사라졌다.xls\n",
      "E:\\OneDrive\\Documents\\Programming_Files\\Gitwork\\FinalProject\\Data\\replace_xls\\윈드 리버.xls\n",
      "E:\\OneDrive\\Documents\\Programming_Files\\Gitwork\\FinalProject\\Data\\replace_xls\\유리정원.xls\n",
      "E:\\OneDrive\\Documents\\Programming_Files\\Gitwork\\FinalProject\\Data\\replace_xls\\은혼.xls\n",
      "E:\\OneDrive\\Documents\\Programming_Files\\Gitwork\\FinalProject\\Data\\replace_xls\\인랑.xls\n",
      "E:\\OneDrive\\Documents\\Programming_Files\\Gitwork\\FinalProject\\Data\\replace_xls\\킹 오브 프리즘.xls\n",
      "E:\\OneDrive\\Documents\\Programming_Files\\Gitwork\\FinalProject\\Data\\replace_xls\\태양 아래.xls\n",
      "E:\\OneDrive\\Documents\\Programming_Files\\Gitwork\\FinalProject\\Data\\replace_xls\\해피 데스데이.xls\n"
     ]
    }
   ],
   "source": [
    "#xls to csv\n",
    "path = r'E:\\OneDrive\\Documents\\Programming_Files\\Gitwork\\FinalProject\\Data\\replace_xls'\n",
    "file_list = os.listdir(path)\n",
    "for i in file_list:\n",
    "    fn=i[:-4]\n",
    "    print(path +f\"\\\\{i}\")\n",
    "    data = pd.read_html(path +f\"\\\\{i}\", encoding='UTF-8')[1]\n",
    "    data.to_csv(f\"E:/OneDrive/Documents/Programming_Files/Gitwork/FinalProject/Data/replace_xls/{fn}.csv\",index=False)"
   ]
  },
  {
   "cell_type": "code",
   "execution_count": 38,
   "metadata": {},
   "outputs": [
    {
     "data": {
      "text/plain": [
       "'47 미터.xls'"
      ]
     },
     "execution_count": 38,
     "metadata": {},
     "output_type": "execute_result"
    }
   ],
   "source": [
    "i[:-4]"
   ]
  },
  {
   "cell_type": "code",
   "execution_count": 36,
   "metadata": {},
   "outputs": [],
   "source": [
    "file_list = os.listdir(path)"
   ]
  },
  {
   "cell_type": "code",
   "execution_count": null,
   "metadata": {},
   "outputs": [],
   "source": []
  }
 ],
 "metadata": {
  "kernelspec": {
   "display_name": "Python 3",
   "language": "python",
   "name": "python3"
  },
  "language_info": {
   "codemirror_mode": {
    "name": "ipython",
    "version": 3
   },
   "file_extension": ".py",
   "mimetype": "text/x-python",
   "name": "python",
   "nbconvert_exporter": "python",
   "pygments_lexer": "ipython3",
   "version": "3.7.6"
  }
 },
 "nbformat": 4,
 "nbformat_minor": 4
}
