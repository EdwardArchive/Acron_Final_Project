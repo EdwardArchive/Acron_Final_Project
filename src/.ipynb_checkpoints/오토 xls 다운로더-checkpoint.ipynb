{
 "cells": [
  {
   "cell_type": "code",
   "execution_count": 83,
   "metadata": {},
   "outputs": [],
   "source": [
    "from selenium import webdriver\n",
    "from selenium.webdriver.common.keys import Keys\n",
    "from selenium.webdriver.common.alert import Alert\n",
    "import requests\n",
    "import json\n",
    "import pandas as pd\n",
    "from tqdm.notebook import tqdm\n",
    "import time\n",
    "import os\n",
    "\n"
   ]
  },
  {
   "cell_type": "code",
   "execution_count": 84,
   "metadata": {},
   "outputs": [],
   "source": [
    "DOWNLOAD_PATH=\"E:\\\\data\"\n",
    "date=\"2020-04-13\"\n",
    "mvInputWd=\"/html/body/div[1]/div[2]/div[2]/div[3]/form/div[1]/div[1]/div/input\"\n",
    "drcInputWd=\"/html/body/div[1]/div[2]/div[2]/div[3]/form/div[1]/div[2]/div/input\"\n",
    "InfoTap2Wd=\"/html/body/div[1]/div[2]/div[2]/div[4]/table/tbody/tr/td[1]/span/a\"\n",
    "analysWd=\"/html/body/div[3]/div[1]/div[2]/ul/li[2]/a\"\n",
    "downWd=\"/html/body/div[3]/div[2]/div/div[2]/div[3]/div/div/div/div/a\""
   ]
  },
  {
   "cell_type": "code",
   "execution_count": 85,
   "metadata": {},
   "outputs": [
    {
     "name": "stdout",
     "output_type": "stream",
     "text": [
      "미녀와 야수\n"
     ]
    }
   ],
   "source": [
    "\n",
    "total=pd.read_csv(\"data/MvDirCS.csv\",index_col=None)\n",
    "nm=total[\"movieNm\"]\n",
    "drc=total[\"directors\"]\n",
    "nm[1],drc[1]\n",
    "type(nm.size)\n",
    "print(nm[0])\n",
    "#drcNm=drc[97].split(\"|\")[0] \n",
    "#if movieNm.find(':')!=-1 :\n",
    "#        movieNm=movieNm.replace(\":\",\"_\")\n",
    "#else: \n",
    "#    print (\"Doesn't contains given substring\")\n",
    "#print(Nmreturn(nm[156],drc[156]))"
   ]
  },
  {
   "cell_type": "code",
   "execution_count": 86,
   "metadata": {},
   "outputs": [],
   "source": [
    "conf=open(DOWNLOAD_PATH+\"\\conf.txt\").read()\n",
    "s,e = conf.split(\",\")\n",
    "start=int(s)-1\n",
    "end = int(e)"
   ]
  },
  {
   "cell_type": "code",
   "execution_count": 87,
   "metadata": {},
   "outputs": [],
   "source": [
    "def Nmreturn(nm,drc) :\n",
    "\n",
    "    if isinstance(nm, pd.Series)==True :\n",
    "        nm_return=list(nm)[0].split(\"|\")[0]\n",
    "    else :\n",
    "        nm_return=nm.split(\"|\")[0]\n",
    "\n",
    "    if isinstance(drc, pd.Series)==True :\n",
    "        drc_return=list(drc)[0].split(\"|\")[0]\n",
    "    else :\n",
    "        drc_return=drc.split(\"|\")[0]\n",
    "    \n",
    "    return nm_return,drc_return"
   ]
  },
  {
   "cell_type": "code",
   "execution_count": 88,
   "metadata": {},
   "outputs": [],
   "source": [
    "def error_code(s) :\n",
    "    if s.find(mvInputWd)!=-1 or  s.find(drcInputWd)!=-1:\n",
    "        return \"Web Load error\"\n",
    "    elif s.find(InfoTap2Wd)!=-1 :\n",
    "        return \"Infopage Load error\"\n",
    "    elif s.find(analysWd)!=-1 :\n",
    "        return \"Exal file Click error\"\n",
    "    elif s.find(downWd)!=-1 :\n",
    "        return \"Exal file Download error\"\n",
    "    else :\n",
    "        return \"File IO error\""
   ]
  },
  {
   "cell_type": "code",
   "execution_count": 89,
   "metadata": {},
   "outputs": [
    {
     "data": {
      "application/vnd.jupyter.widget-view+json": {
       "model_id": "7373d11ba1ec48d895798c94e0a9c9fe",
       "version_major": 2,
       "version_minor": 0
      },
      "text/plain": [
       "HBox(children=(FloatProgress(value=0.0, max=330.0), HTML(value='')))"
      ]
     },
     "metadata": {},
     "output_type": "display_data"
    },
    {
     "name": "stdout",
     "output_type": "stream",
     "text": [
      "Fail : 미녀와 야수,빌 콘돈  error : File IO error\n",
      "Fail : 구스범스,아리 샌델  error : File IO error\n",
      "Fail : 앨빈과 슈퍼밴드: 악동 어드벤처,월트 베커  error : Infopage Load error\n",
      "Fail : 드레스메이커,조슬린 무어하우스  error : Infopage Load error\n",
      "Fail : 데드풀,데이비드 레이치  error : Infopage Load error\n",
      "Fail : 주토피아,바이런 하워드  error : Infopage Load error\n",
      "Fail : 룸,레니 애브라함슨  error : Infopage Load error\n",
      "Fail : 조이,데이비드 O. 러셀  error : Infopage Load error\n",
      "Fail : 오 마이 그랜파,댄 메이저  error : Infopage Load error\n",
      "Fail : 미스컨덕트,신타로 시모사와  error : Infopage Load error\n",
      "Fail : 라스트 홈,라민 바흐라니  error : Infopage Load error\n",
      "Fail : 헌츠맨: 윈터스 워,세드릭 니콜라스-트로얀  error : Infopage Load error\n",
      "Fail : 파라노말 액티비티: 더 고스트 디멘션,그레고리 플롯킨  error : Infopage Load error\n",
      "Fail : 45년 후,앤드류 하이  error : Infopage Load error\n",
      "Fail : 미 비포 유,티아 샤록  error : Infopage Load error\n",
      "Fail : 나의 소녀시대,진옥산  error : Infopage Load error\n",
      "Fail : 앵그리버드 더 무비,서럽 밴 오먼  error : Infopage Load error\n",
      "Fail : 정글북,막심 파데예프  error : Infopage Load error\n",
      "Fail : 정글북,막심 파데예프  error : Infopage Load error\n",
      "Fail : 몽키킹2: 서유기 여정의 시작,소이 청  error : Infopage Load error\n",
      "Fail : 플래그 더 문,엔리크 가토  error : Infopage Load error\n",
      "Fail : 더 웨이브,로아 우다우그  error : Infopage Load error\n",
      "Fail : 아이스 에이지: 지구 대충돌,마이크 써마이어  error : Infopage Load error\n",
      "Fail : 수어사이드 스쿼드,데이비드 에이어  error : Exal file Download error\n",
      "Fail : 터널,김성훈  error : Exal file Download error\n",
      "Fail : 갤럭시 히어로즈: 라쳇 앤 클랭크,제리카 클레랜드  error : Infopage Load error\n",
      "Fail : 플로렌스,스티븐 프리어즈  error : Infopage Load error\n",
      "Fail : 고스트버스터즈,제이슨 라이트만  error : Infopage Load error\n",
      "Fail : 이퀄스,드레이크 도레무스  error : Infopage Load error\n",
      "Fail : 달빛궁궐,김현주  error : Web Load error\n",
      "Fail : 대결,신재호  error : Infopage Load error\n",
      "Fail : 아이 엠 어 히어로,사토 신스케  error : Exal file Download error\n",
      "Fail : 뉴 스텝업: 어반댄스,태미 데이비스  error : Infopage Load error\n",
      "Fail : 백설공주 : 사라진 아빠를 찾아서,조분  error : Infopage Load error\n",
      "Fail : 미스터 캣,배리 소넨펠드  error : Infopage Load error\n",
      "Fail : 로스트 인 더스트,데이빗 맥켄지  error : Infopage Load error\n",
      "Fail : 인어공주 : 새로운 모험의 시작,구호강  error : Infopage Load error\n",
      "Fail : 드래곤 네스트: 평화 기사단 VS 블랙 드래곤,송악봉  error : Infopage Load error\n"
     ]
    },
    {
     "ename": "KeyboardInterrupt",
     "evalue": "",
     "output_type": "error",
     "traceback": [
      "\u001b[1;31m---------------------------------------------------------------------------\u001b[0m",
      "\u001b[1;31mKeyboardInterrupt\u001b[0m                         Traceback (most recent call last)",
      "\u001b[1;32m<ipython-input-89-fe7ea4622426>\u001b[0m in \u001b[0;36m<module>\u001b[1;34m\u001b[0m\n\u001b[0;32m     28\u001b[0m         \u001b[0mAnalysClickAd\u001b[0m\u001b[1;33m.\u001b[0m\u001b[0mclick\u001b[0m\u001b[1;33m(\u001b[0m\u001b[1;33m)\u001b[0m\u001b[1;33m\u001b[0m\u001b[1;33m\u001b[0m\u001b[0m\n\u001b[0;32m     29\u001b[0m \u001b[1;33m\u001b[0m\u001b[0m\n\u001b[1;32m---> 30\u001b[1;33m         \u001b[0mtime\u001b[0m\u001b[1;33m.\u001b[0m\u001b[0msleep\u001b[0m\u001b[1;33m(\u001b[0m\u001b[1;36m40.0\u001b[0m\u001b[1;33m)\u001b[0m\u001b[1;33m\u001b[0m\u001b[1;33m\u001b[0m\u001b[0m\n\u001b[0m\u001b[0;32m     31\u001b[0m \u001b[1;33m\u001b[0m\u001b[0m\n\u001b[0;32m     32\u001b[0m         \u001b[0mDownloadClickAd\u001b[0m\u001b[1;33m=\u001b[0m\u001b[0mdriver\u001b[0m\u001b[1;33m.\u001b[0m\u001b[0mfind_element_by_xpath\u001b[0m\u001b[1;33m(\u001b[0m\u001b[1;34m\"/html/body/div[3]/div[2]/div/div[2]/div[3]/div/div/div/div/a\"\u001b[0m\u001b[1;33m)\u001b[0m\u001b[1;33m.\u001b[0m\u001b[0mclick\u001b[0m\u001b[1;33m(\u001b[0m\u001b[1;33m)\u001b[0m\u001b[1;33m\u001b[0m\u001b[1;33m\u001b[0m\u001b[0m\n",
      "\u001b[1;31mKeyboardInterrupt\u001b[0m: "
     ]
    }
   ],
   "source": [
    "for index in tqdm(range(start,end)):\n",
    "    try :\n",
    "        movieNm, drcNm = Nmreturn(nm[index],drc[index])\n",
    "        \n",
    "        options = webdriver.ChromeOptions()\n",
    "        options.add_experimental_option(\"prefs\", {\n",
    "          \"download.default_directory\": DOWNLOAD_PATH,\n",
    "          \"download.prompt_for_download\": False,\n",
    "          \"download.directory_upgrade\": True,\n",
    "          \"safebrowsing.enabled\": True\n",
    "        })\n",
    "        driver=webdriver.Chrome(options=options,executable_path=\"C:/ChromeDriver/chromedriver.exe\")\n",
    "        driver.get(\"http://www.kobis.or.kr/kobis/business/mast/mvie/searchMovieList.do\")\n",
    "        \n",
    "        moiveInputAd=driver.find_element_by_xpath(\"/html/body/div[1]/div[2]/div[2]/div[3]/form/div[1]/div[1]/div/input\")\n",
    "        drcInputAd=driver.find_element_by_xpath(\"/html/body/div[1]/div[2]/div[2]/div[3]/form/div[1]/div[2]/div/input\")\n",
    "\n",
    "        moiveInputAd.send_keys(movieNm)\n",
    "        drcInputAd.send_keys(drcNm)\n",
    "        drcInputAd.send_keys(Keys.ENTER)\n",
    "\n",
    "        time.sleep(2.0)\n",
    "\n",
    "        movieClickAd=driver.find_element_by_xpath(\"/html/body/div[1]/div[2]/div[2]/div[4]/table/tbody/tr/td[1]/span/a\")\n",
    "        movieClickAd.click()\n",
    "\n",
    "        AnalysClickAd=driver.find_element_by_xpath(\"/html/body/div[3]/div[1]/div[2]/ul/li[2]/a\")\n",
    "        AnalysClickAd.click()\n",
    "\n",
    "        time.sleep(40.0)\n",
    "\n",
    "        DownloadClickAd=driver.find_element_by_xpath(\"/html/body/div[3]/div[2]/div/div[2]/div[3]/div/div/div/div/a\").click()\n",
    "        time.sleep(1.0)\n",
    "        Alert(driver).accept()\n",
    "\n",
    "        time.sleep(10.0)\n",
    "        if movieNm.find(':')!=-1 :\n",
    "            movieNm=movieNm.replace(\":\",\"_\")\n",
    "        os.rename(DOWNLOAD_PATH+'\\\\KOBIS_일자별_통계정보_{}.xls'.format(date),DOWNLOAD_PATH+'\\\\{}.xls'.format(movieNm))\n",
    "        driver.close()\n",
    "    except Exception as e:\n",
    "        estr = error_code(str(e))\n",
    "        print(\"Fail : {},{}  error : {}\".format(movieNm,drcNm,estr))\n",
    "        with open (DOWNLOAD_PATH+'\\\\faillog.txt', 'a') as f: f.write (\"Fail : {},{}  indexNum : {} \\t error : {} \\n\".format(movieNm,drcNm,index,estr))\n",
    "        driver.close()"
   ]
  },
  {
   "cell_type": "markdown",
   "metadata": {},
   "source": [
    "---"
   ]
  }
 ],
 "metadata": {
  "kernelspec": {
   "display_name": "Python 3",
   "language": "python",
   "name": "python3"
  },
  "language_info": {
   "codemirror_mode": {
    "name": "ipython",
    "version": 3
   },
   "file_extension": ".py",
   "mimetype": "text/x-python",
   "name": "python",
   "nbconvert_exporter": "python",
   "pygments_lexer": "ipython3",
   "version": "3.7.6"
  }
 },
 "nbformat": 4,
 "nbformat_minor": 4
}
