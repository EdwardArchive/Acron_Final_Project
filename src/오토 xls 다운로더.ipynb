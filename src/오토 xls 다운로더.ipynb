{
 "cells": [
  {
   "cell_type": "code",
   "execution_count": 17,
   "metadata": {},
   "outputs": [],
   "source": [
    "from selenium import webdriver\n",
    "from selenium.webdriver.common.keys import Keys\n",
    "from selenium.webdriver.common.alert import Alert\n",
    "import requests\n",
    "import json\n",
    "import pandas as pd\n",
    "from tqdm.notebook import tqdm\n",
    "import time\n",
    "import os\n",
    "\n"
   ]
  },
  {
   "cell_type": "code",
   "execution_count": 18,
   "metadata": {},
   "outputs": [],
   "source": [
    "DOWNLOAD_PATH=\"E:\\\\data\"\n",
    "date=\"2020-04-14\"\n",
    "mvInputWd=\"/html/body/div[1]/div[2]/div[2]/div[3]/form/div[1]/div[1]/div/input\"\n",
    "drcInputWd=\"/html/body/div[1]/div[2]/div[2]/div[3]/form/div[1]/div[2]/div/input\"\n",
    "InfoTap2Wd=\"/html/body/div[1]/div[2]/div[2]/div[4]/table/tbody/tr/td[1]/span/a\"\n",
    "analysWd=\"/html/body/div[3]/div[1]/div[2]/ul/li[2]/a\"\n",
    "downWd=\"/html/body/div[3]/div[2]/div/div[2]/div[3]/div/div/div/div/a\""
   ]
  },
  {
   "cell_type": "code",
   "execution_count": 19,
   "metadata": {},
   "outputs": [
    {
     "name": "stdout",
     "output_type": "stream",
     "text": [
      "미녀와 야수\n",
      "('모아나', '제임스 보빈')\n"
     ]
    },
    {
     "data": {
      "text/plain": [
       "758"
      ]
     },
     "execution_count": 19,
     "metadata": {},
     "output_type": "execute_result"
    }
   ],
   "source": [
    "\n",
    "total=pd.read_csv(\"data/MvDirCS.csv\",index_col=None)\n",
    "nm=total[\"movieNm\"]\n",
    "drc=total[\"directors\"]\n",
    "nm[1],drc[1]\n",
    "type(nm.size)\n",
    "print(nm[0])\n",
    "#drcNm=drc[97].split(\"|\")[0] \n",
    "#if movieNm.find(':')!=-1 :\n",
    "#        movieNm=movieNm.replace(\":\",\"_\")\n",
    "#else: \n",
    "#    print (\"Doesn't contains given substring\")\n",
    "print(Nmreturn(nm[253],drc[156]))\n",
    "nm.size"
   ]
  },
  {
   "cell_type": "code",
   "execution_count": 20,
   "metadata": {},
   "outputs": [],
   "source": [
    "conf=open(DOWNLOAD_PATH+\"\\conf.txt\").read()\n",
    "s,e = conf.split(\",\")\n",
    "start=int(s)-1\n",
    "end = int(e)"
   ]
  },
  {
   "cell_type": "code",
   "execution_count": 21,
   "metadata": {},
   "outputs": [],
   "source": [
    "def Nmreturn(nm,drc) :\n",
    "\n",
    "    if isinstance(nm, pd.Series)==True :\n",
    "        nm_return=list(nm)[0].split(\"|\")[0]\n",
    "    else :\n",
    "        nm_return=nm.split(\"|\")[0]\n",
    "\n",
    "    if isinstance(drc, pd.Series)==True :\n",
    "        drc_return=list(drc)[0].split(\"|\")[0]\n",
    "    else :\n",
    "        drc_return=drc.split(\"|\")[0]\n",
    "    \n",
    "    return nm_return,drc_return"
   ]
  },
  {
   "cell_type": "code",
   "execution_count": 22,
   "metadata": {},
   "outputs": [],
   "source": [
    "def error_code(s) :\n",
    "    if s.find(mvInputWd)!=-1 or  s.find(drcInputWd)!=-1:\n",
    "        return \"Web Load error\"\n",
    "    elif s.find(InfoTap2Wd)!=-1 :\n",
    "        return \"Infopage Load error\"\n",
    "    elif s.find(analysWd)!=-1 :\n",
    "        return \"Exal file Click error\"\n",
    "    elif s.find(downWd)!=-1 :\n",
    "        return \"Exal file Download error\"\n",
    "    else :\n",
    "        return \"File IO error\""
   ]
  },
  {
   "cell_type": "code",
   "execution_count": 23,
   "metadata": {},
   "outputs": [
    {
     "data": {
      "application/vnd.jupyter.widget-view+json": {
       "model_id": "bf9b285d2cde4f488b7188254381b43a",
       "version_major": 2,
       "version_minor": 0
      },
      "text/plain": [
       "HBox(children=(FloatProgress(value=0.0, max=504.0), HTML(value='')))"
      ]
     },
     "metadata": {},
     "output_type": "display_data"
    },
    {
     "name": "stdout",
     "output_type": "stream",
     "text": [
      "Fail : 레지던트 이블: 파멸의 날,폴 앤더슨  error : Infopage Load error\n",
      "Fail : 조작된 도시,배종  error : Infopage Load error\n",
      "Fail : 발레리나,에릭 서머  error : Infopage Load error\n",
      "Fail : 트롤,월트 돈  error : Infopage Load error\n",
      "Fail : 히든 피겨스,테오도어 멜피  error : Infopage Load error\n",
      "Fail : 콩: 스컬 아일랜드,조던 보트-로버츠  error : Infopage Load error\n",
      "Fail : 미녀와 야수,빌 콘돈  error : File IO error\n",
      "Fail : 개구리왕국 2,팽비  error : Infopage Load error\n",
      "Fail : 라이프,대니얼 에스피노사  error : Infopage Load error\n",
      "Fail : 링스,F. 자비어 구티에레즈  error : Infopage Load error\n",
      "Fail : 슈퍼 버드,마이크 쿤켈  error : Infopage Load error\n",
      "Fail : 지니어스,마이클 그랜디지  error : Infopage Load error\n",
      "Fail : 극장판 어드벤처 타임: 비밀의 아일랜드,이지현  error : Infopage Load error\n",
      "Fail : 파워레인져스: 더 비기닝,딘 이슬래리트  error : Infopage Load error\n",
      "Fail : 파운더,존 리 핸콕  error : Infopage Load error\n",
      "Fail : 콜로설,나초 비가론도  error : Infopage Load error\n",
      "Fail : 스머프: 비밀의 숲,켈리 애스버리  error : Infopage Load error\n",
      "Fail : 보스 베이비,톰 맥그래스  error : Infopage Load error\n",
      "Fail : 오즈의 마법사 2,알베르토 마르  error : Infopage Load error\n",
      "Fail : 정글북,막심 파데예프  error : Infopage Load error\n",
      "Fail : 정글북,막심 파데예프  error : Infopage Load error\n",
      "Fail : 원더 우먼,패티 젠킨스  error : Infopage Load error\n",
      "Fail : 7번째 내가 죽던 날,라이 루소-영  error : Infopage Load error\n",
      "Fail : 미이라,히로시 카타기리  error : Exal file Download error\n",
      "Fail : 꼬마돼지 베이브의 대모험,테레사 스트로직  error : Infopage Load error\n",
      "Fail : 다크 하우스,대런 린 보우스만  error : Infopage Load error\n",
      "Fail : 지랄발광 17세,켈리 프레몬 크레이그  error : Infopage Load error\n",
      "Fail : 스파이더맨: 홈 커밍,존 왓츠  error : Exal file Download error\n",
      "Fail : 플립,로브 라이너  error : Infopage Load error\n",
      "Fail : 내 사랑,에이슬링 월시  error : Infopage Load error\n",
      "Fail : 내가 죽기 전에 가장 듣고 싶은 말,마크 펠링튼  error : Infopage Load error\n",
      "Fail : 슈퍼배드 3,피에르 코팽  error : Infopage Load error\n",
      "Fail : 혹성탈출: 종의 전쟁,매트 리브스  error : Infopage Load error\n",
      "Fail : 드래곤 스펠: 마법 꽃의 비밀,블라디미르 미카이로프  error : Infopage Load error\n",
      "Fail : 아토믹 블론드,데이비드 레이치  error : Infopage Load error\n",
      "Fail : 범죄도시,강윤성  error : Exal file Download error\n",
      "Fail : 넛잡 2,캘런 브렁커  error : Infopage Load error\n",
      "Fail : 나의 엔젤,해리 클레벤  error : Infopage Load error\n",
      "Fail : 마더!,봉준호  error : Infopage Load error\n",
      "Fail : 토르: 라그나로크,타이카 와이티티  error : Exal file Download error\n",
      "Fail : 너의 췌장을 먹고 싶어,우시지마 신이치로  error : File IO error\n",
      "Fail : 뷰티풀 투모로우,장재혁  error : Exal file Download error\n",
      "Fail : 신서유기 : 몽키킹의 부활,전효붕  error : Infopage Load error\n",
      "Fail : 빅 배드 폭스,벵자맹 레네  error : Infopage Load error\n",
      "Fail : 산상수훈,대해  error : Infopage Load error\n",
      "Fail : 신과함께-죄와 벌,김용화  error : Exal file Download error\n",
      "Fail : 더 크리스마스,티머시 렉카트  error : Infopage Load error\n",
      "Fail : 쏘아올린 불꽃, 밑에서 볼까? 옆에서 볼까?,신보 아키유키  error : File IO error\n",
      "Fail : 젝스키스 에이틴,YG 엔터테인먼트  error : Infopage Load error\n",
      "Fail : 리틀 뱀파이어,리하르트 클라우스  error : Infopage Load error\n",
      "Fail : 극장판 레이디버그: 미라클스톤의 비밀,토마스 아스트럭  error : Infopage Load error\n",
      "Fail : 명탐정 코난_감벽의 관,야마모토 야스이치로  error : File IO error\n",
      "Fail : 50가지 그림자: 해방,제임스 폴리  error : File IO error\n",
      "Fail : 반딧불이 딘딘,등위봉  error : File IO error\n",
      "Fail : 나미야 잡화점의 기적,한지에  error : File IO error\n",
      "Fail : 게이트,신재호  error : File IO error\n",
      "Fail : 툼레이더,로아 우다우그  error : Infopage Load error\n",
      "Fail : 치즈인더트랩,김제영  error : File IO error\n",
      "Fail : 미니특공대X,이영준  error : Exal file Download error\n",
      "Fail : 콰이어트 플레이스,존 크래신스키  error : Infopage Load error\n",
      "Fail : 그날, 바다,김지영  error : File IO error\n",
      "Fail : 달링,앤디 서키스  error : File IO error\n",
      "Fail : 크리미널 스쿼드,크리스찬 구드개스트  error : Infopage Load error\n",
      "Fail : 정글번치: 최강 악당의 등장,데이빗 알루  error : Infopage Load error\n",
      "Fail : 당갈,니테시 티와리  error : Infopage Load error\n",
      "Fail : 어벤져스: 인피니티 워,안소니 루소  error : Exal file Download error\n",
      "Fail : 살인소설,김진묵  error : File IO error\n",
      "Fail : 매직빈,추일  error : Infopage Load error\n",
      "Fail : 커다랗고 커다랗고 커다란 배,필리프 에인스테인 리프스키  error : Infopage Load error\n",
      "Fail : 샷 콜러,릭 로만 워  error : Infopage Load error\n",
      "Fail : 부르고뉴, 와인에서 찾은 인생,세드릭 클라피쉬  error : Infopage Load error\n",
      "Fail : 루비 스팍스,조나단 데이톤  error : Infopage Load error\n",
      "Fail : 데드풀 2,데이비드 레이치  error : Infopage Load error\n",
      "Fail : 독전,이해영  error : Exal file Download error\n",
      "Fail : 트루스 오어 데어,제프 와드로우  error : Infopage Load error\n",
      "Fail : 스탠바이, 웬디,벤 르윈  error : Infopage Load error\n",
      "Fail : 겨울왕국의 무민,이라 카르펠란  error : Infopage Load error\n",
      "Fail : 탐정: 리턴즈,이언희  error : Exal file Download error\n",
      "Fail : 꼬마영웅 바비,황건명  error : Infopage Load error\n",
      "Fail : 아이 필 프리티,애비 콘  error : Infopage Load error\n",
      "Fail : 유전,아리 에스터  error : Infopage Load error\n",
      "Fail : 허스토리,민규동  error : Exal file Download error\n",
      "Fail : 류이치 사카모토: 코다,스티븐 노무라 시블  error : Infopage Load error\n",
      "Fail : 아일라,잔 울카이  error : Infopage Load error\n",
      "Fail : 빅샤크: 매직체인지,하자력  error : Infopage Load error\n",
      "Fail : 드래곤 프린세스,아르티옴 루키체프  error : Infopage Load error\n",
      "Fail : 꼬마 보트 토토: 타요 타요 배 타요,시멘 알스비크  error : Infopage Load error\n",
      "Fail : 미션 임파서블: 폴아웃,크리스토퍼 맥쿼리  error : Exal file Download error\n",
      "Fail : 신과함께-인과 연,김용화  error : Exal file Download error\n",
      "Fail : 메가로돈,제임스 토마스  error : Infopage Load error\n",
      "Fail : 플로이,알리니 올라퓌르 아스게리손  error : Infopage Load error\n",
      "Fail : 서치,아니시 샤간티  error : Infopage Load error\n",
      "Fail : 더 프레데터,셰인 블랙  error : Infopage Load error\n",
      "Fail : 바니부기: 드래곤 에그를 찾아서,이양무  error : Infopage Load error\n",
      "Fail : 루이스,울프강 라우엔스테인  error : Infopage Load error\n",
      "Fail : 노크: 초대받지 않은 손님,요하네스 로버츠  error : Infopage Load error\n",
      "Fail : 퍼스트맨,데미안 셔젤  error : Infopage Load error\n",
      "Fail : 완벽한 타인,이재규  error : Exal file Download error\n",
      "Fail : 알리바이 닷 컴,필립 라쇼  error : Infopage Load error\n",
      "Fail : 보헤미안 랩소디,브라이언 싱어  error : Exal file Download error\n",
      "Fail : 바울,앤드류 하이엇  error : Infopage Load error\n",
      "Fail : 캡틴 스터비,리처드 래니  error : Infopage Load error\n",
      "Fail : 구스범스: 몬스터의 역습,아리 샌델  error : Infopage Load error\n",
      "Fail : 너의 췌장을 먹고 싶어,우시지마 신이치로  error : File IO error\n",
      "Fail : 너의 췌장을 먹고 싶어,우시지마 신이치로  error : File IO error\n",
      "Fail : 툴리,제이슨 라이트만  error : Infopage Load error\n",
      "Fail : 캡틴 샤키,잔 스톨츠  error : Infopage Load error\n",
      "Fail : 후드,오토 배서스트  error : Infopage Load error\n",
      "Fail : 트와이스랜드,나연  error : Infopage Load error\n",
      "Fail : 그린치,야로우 체니  error : Infopage Load error\n",
      "Fail : 더 보이,윌리엄 브렌트 벨  error : File IO error\n",
      "Fail : 사일런스,존 R. 레오네티  error : File IO error\n",
      "\n"
     ]
    }
   ],
   "source": [
    "for index in tqdm(range(start,end)):\n",
    "    try :\n",
    "        movieNm, drcNm = Nmreturn(nm[index],drc[index])\n",
    "        \n",
    "        options = webdriver.ChromeOptions()\n",
    "        options.add_experimental_option(\"prefs\", {\n",
    "          \"download.default_directory\": DOWNLOAD_PATH,\n",
    "          \"download.prompt_for_download\": False,\n",
    "          \"download.directory_upgrade\": True,\n",
    "          \"safebrowsing.enabled\": True\n",
    "        })\n",
    "        driver=webdriver.Chrome(options=options,executable_path=\"C:/ChromeDriver/chromedriver.exe\")\n",
    "        driver.get(\"http://www.kobis.or.kr/kobis/business/mast/mvie/searchMovieList.do\")\n",
    "        \n",
    "        moiveInputAd=driver.find_element_by_xpath(\"/html/body/div[1]/div[2]/div[2]/div[3]/form/div[1]/div[1]/div/input\")\n",
    "        drcInputAd=driver.find_element_by_xpath(\"/html/body/div[1]/div[2]/div[2]/div[3]/form/div[1]/div[2]/div/input\")\n",
    "\n",
    "        moiveInputAd.send_keys(movieNm)\n",
    "        drcInputAd.send_keys(drcNm)\n",
    "        drcInputAd.send_keys(Keys.ENTER)\n",
    "\n",
    "        time.sleep(3.0)\n",
    "\n",
    "        movieClickAd=driver.find_element_by_xpath(\"/html/body/div[1]/div[2]/div[2]/div[4]/table/tbody/tr/td[1]/span/a\")\n",
    "        movieClickAd.click()\n",
    "\n",
    "        AnalysClickAd=driver.find_element_by_xpath(\"/html/body/div[3]/div[1]/div[2]/ul/li[2]/a\")\n",
    "        AnalysClickAd.click()\n",
    "\n",
    "        time.sleep(25.0)\n",
    "\n",
    "        DownloadClickAd=driver.find_element_by_xpath(\"/html/body/div[3]/div[2]/div/div[2]/div[3]/div/div/div/div/a\").click()\n",
    "        time.sleep(1.0)\n",
    "        Alert(driver).accept()\n",
    "\n",
    "        time.sleep(12.0)\n",
    "        if movieNm.find(':')!=-1 :\n",
    "            movieNm=movieNm.replace(\":\",\"_\")\n",
    "        os.rename(DOWNLOAD_PATH+'\\\\KOBIS_일자별_통계정보_{}.xls'.format(date),DOWNLOAD_PATH+'\\\\{}.xls'.format(movieNm))\n",
    "        driver.close()\n",
    "    except Exception as e:\n",
    "        estr = error_code(str(e))\n",
    "        print(\"Fail : {},{}  error : {}\".format(movieNm,drcNm,estr))\n",
    "        with open (DOWNLOAD_PATH+'\\\\faillog.txt', 'a') as f: f.write (\"Fail : {},{}  indexNum : {} \\t error : {} \\n\".format(movieNm,drcNm,index,estr))\n",
    "        driver.close()"
   ]
  },
  {
   "cell_type": "markdown",
   "metadata": {},
   "source": [
    "---"
   ]
  }
 ],
 "metadata": {
  "kernelspec": {
   "display_name": "Python 3",
   "language": "python",
   "name": "python3"
  },
  "language_info": {
   "codemirror_mode": {
    "name": "ipython",
    "version": 3
   },
   "file_extension": ".py",
   "mimetype": "text/x-python",
   "name": "python",
   "nbconvert_exporter": "python",
   "pygments_lexer": "ipython3",
   "version": "3.7.6"
  }
 },
 "nbformat": 4,
 "nbformat_minor": 4
}
