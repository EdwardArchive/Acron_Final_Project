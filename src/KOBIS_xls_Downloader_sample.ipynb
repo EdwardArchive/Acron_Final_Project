{
 "cells": [
  {
   "cell_type": "code",
   "execution_count": null,
   "metadata": {},
   "outputs": [],
   "source": [
    "DOWNLOAD_PATH=r'E\\data'\n",
    "date=\"2020-04-13\"\n",
    "\n",
    "\n",
    "movieNm=nm[0]\n",
    "drcNm=drc[0]\n",
    "options = webdriver.ChromeOptions() \n",
    "prefs = {\n",
    "  \"download.default_directory\": DOWNLOAD_PATH,\n",
    "  \"download.prompt_for_download\": False,\n",
    "  \"download.directory_upgrade\": True,\n",
    "  \"safebrowsing.enabled\": True}\n",
    "options.add_experimental_option('prefs', prefs)\n",
    "\n",
    "driver=webdriver.Chrome(options=options,executable_path=\"C:/ChromeDriver/chromedriver.exe\")\n",
    "driver.get(\"http://www.kobis.or.kr/kobis/business/mast/mvie/searchMovieList.do\")\n",
    "\n",
    "moiveInputAd=driver.find_element_by_xpath(\"/html/body/div[1]/div[2]/div[2]/div[3]/form/div[1]/div[1]/div/input\")\n",
    "drcInputAd=driver.find_element_by_xpath(\"/html/body/div[1]/div[2]/div[2]/div[3]/form/div[1]/div[2]/div/input\")\n",
    "\n",
    "moiveInputAd.send_keys(movieNm)\n",
    "drcInputAd.send_keys(drcNm)\n",
    "drcInputAd.send_keys(Keys.ENTER)\n",
    "\n",
    "time.sleep(2.0)\n",
    "\n",
    "movieClickAd=driver.find_element_by_xpath(\"/html/body/div[1]/div[2]/div[2]/div[4]/table/tbody/tr/td[1]/span/a\")\n",
    "movieClickAd.click()\n",
    "\n",
    "AnalysClickAd=driver.find_element_by_xpath(\"/html/body/div[3]/div[1]/div[2]/ul/li[2]/a\")\n",
    "AnalysClickAd.click()\n",
    "                     \n",
    "time.sleep(50.0)\n",
    "\n",
    "DownloadClickAd=driver.find_element_by_xpath(\"/html/body/div[3]/div[2]/div/div[2]/div[3]/div/div/div/div/a\").click()\n",
    "time.sleep(1.0)\n",
    "Alert(driver).accept()\n",
    "\n",
    "time.sleep(10.0)\n",
    "os.rename(r'E:\\data\\KOBIS_일자별_통계정보_{}.xls'.format(date),r'E:\\data\\{}.xls'.format(movieNm))\n",
    "driver.close()"
   ]
  },
  {
   "cell_type": "code",
   "execution_count": null,
   "metadata": {},
   "outputs": [],
   "source": []
  }
 ],
 "metadata": {
  "kernelspec": {
   "display_name": "Python 3",
   "language": "python",
   "name": "python3"
  },
  "language_info": {
   "codemirror_mode": {
    "name": "ipython",
    "version": 3
   },
   "file_extension": ".py",
   "mimetype": "text/x-python",
   "name": "python",
   "nbconvert_exporter": "python",
   "pygments_lexer": "ipython3",
   "version": "3.7.6"
  }
 },
 "nbformat": 4,
 "nbformat_minor": 4
}
